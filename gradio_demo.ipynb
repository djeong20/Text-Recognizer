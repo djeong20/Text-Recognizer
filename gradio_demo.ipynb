{
 "cells": [
  {
   "cell_type": "code",
   "execution_count": 19,
   "id": "ecc5a222-17ba-4897-b41d-9a1e2b80f5aa",
   "metadata": {},
   "outputs": [],
   "source": [
    "import argparse\n",
    "\n",
    "import torch\n",
    "import torchvision\n",
    "\n",
    "from dataset import GNHK, GNHKDataset\n",
    "from model import Model\n",
    "from utils import CTCLabelConverter, display_image, get_box_images\n",
    "\n",
    "def collate_fn(batch):\n",
    "    return tuple(zip(*batch))"
   ]
  },
  {
   "cell_type": "code",
   "execution_count": 20,
   "id": "88625f57-9e8b-4ae2-800f-63b14918af9e",
   "metadata": {},
   "outputs": [
    {
     "name": "stdout",
     "output_type": "stream",
     "text": [
      "Running on local URL:  http://127.0.0.1:7870\n",
      "\n",
      "To create a public link, set `share=True` in `launch()`.\n"
     ]
    },
    {
     "data": {
      "text/html": [
       "<div><iframe src=\"http://127.0.0.1:7870/\" width=\"100%\" height=\"500\" allow=\"autoplay; camera; microphone; clipboard-read; clipboard-write;\" frameborder=\"0\" allowfullscreen></iframe></div>"
      ],
      "text/plain": [
       "<IPython.core.display.HTML object>"
      ]
     },
     "metadata": {},
     "output_type": "display_data"
    },
    {
     "data": {
      "text/plain": []
     },
     "execution_count": 20,
     "metadata": {},
     "output_type": "execute_result"
    },
    {
     "name": "stdout",
     "output_type": "stream",
     "text": [
      "loading pretrained model from text-recognition.pth\n",
      "loading pretrained model from text-recognition.pth\n",
      "loading pretrained model from text-recognition.pth\n",
      "loading pretrained model from text-recognition.pth\n",
      "loading pretrained model from text-recognition.pth\n"
     ]
    }
   ],
   "source": [
    "import numpy as np\n",
    "import gradio as gr\n",
    "\n",
    "def inference(input_img):\n",
    "    device = torch.device('cuda' if torch.cuda.is_available() else 'cpu')\n",
    "\n",
    "    crnn_model = Model()\n",
    "    print('loading pretrained model from %s' % 'text-recognition.pth')\n",
    "    crnn_model.load_state_dict(torch.load('text-recognition.pth', map_location=device))\n",
    "\n",
    "    # Converter\n",
    "    converter = CTCLabelConverter()\n",
    "\n",
    "    crnn_model.to(device)\n",
    "    crnn_model.eval()\n",
    "    \n",
    "    img = torchvision.transforms.functional.to_tensor(input_img)\n",
    "    transform = torchvision.transforms.Resize((32,32))\n",
    "    img_list = [transform(img)]\n",
    "    img = torch.stack(img_list).to(device)\n",
    "    \n",
    "    crnn_preds = crnn_model(img)\n",
    "    preds_size = torch.IntTensor([crnn_preds.size(1)])\n",
    "\n",
    "    crnn_preds = crnn_preds.log_softmax(2)\n",
    "\n",
    "    _, preds_index = crnn_preds.max(2)\n",
    "    preds_str = converter.decode(preds_index.data, preds_size.data)\n",
    "    \n",
    "    return preds_str[0]\n",
    "\n",
    "demo = gr.Interface(inference, gr.Image(shape=(32, 32)), \"text\")\n",
    "demo.launch()"
   ]
  },
  {
   "cell_type": "code",
   "execution_count": null,
   "id": "4861c6e4-76a7-4e7c-af0b-64654c7c7c8e",
   "metadata": {},
   "outputs": [],
   "source": []
  }
 ],
 "metadata": {
  "kernelspec": {
   "display_name": "Python 3 (ipykernel)",
   "language": "python",
   "name": "python3"
  },
  "language_info": {
   "codemirror_mode": {
    "name": "ipython",
    "version": 3
   },
   "file_extension": ".py",
   "mimetype": "text/x-python",
   "name": "python",
   "nbconvert_exporter": "python",
   "pygments_lexer": "ipython3",
   "version": "3.10.8"
  }
 },
 "nbformat": 4,
 "nbformat_minor": 5
}
